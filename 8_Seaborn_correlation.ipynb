{
 "cells": [
  {
   "cell_type": "code",
   "execution_count": 2,
   "id": "20560ed5",
   "metadata": {},
   "outputs": [],
   "source": [
    "import seaborn as sns \n",
    "import matplotlib.pyplot as plt \n"
   ]
  },
  {
   "cell_type": "code",
   "execution_count": 3,
   "id": "173814ed",
   "metadata": {},
   "outputs": [],
   "source": [
    "data  =  sns.load_dataset('tips')"
   ]
  },
  {
   "cell_type": "code",
   "execution_count": 4,
   "id": "23f47ca7",
   "metadata": {},
   "outputs": [
    {
     "data": {
      "application/vnd.microsoft.datawrangler.viewer.v0+json": {
       "columns": [
        {
         "name": "index",
         "rawType": "int64",
         "type": "integer"
        },
        {
         "name": "total_bill",
         "rawType": "float64",
         "type": "float"
        },
        {
         "name": "tip",
         "rawType": "float64",
         "type": "float"
        },
        {
         "name": "sex",
         "rawType": "category",
         "type": "unknown"
        },
        {
         "name": "smoker",
         "rawType": "category",
         "type": "unknown"
        },
        {
         "name": "day",
         "rawType": "category",
         "type": "unknown"
        },
        {
         "name": "time",
         "rawType": "category",
         "type": "unknown"
        },
        {
         "name": "size",
         "rawType": "int64",
         "type": "integer"
        }
       ],
       "ref": "eac67ce1-ea28-40b1-b618-4bca9b27a95e",
       "rows": [
        [
         "0",
         "16.99",
         "1.01",
         "Female",
         "No",
         "Sun",
         "Dinner",
         "2"
        ],
        [
         "1",
         "10.34",
         "1.66",
         "Male",
         "No",
         "Sun",
         "Dinner",
         "3"
        ],
        [
         "2",
         "21.01",
         "3.5",
         "Male",
         "No",
         "Sun",
         "Dinner",
         "3"
        ],
        [
         "3",
         "23.68",
         "3.31",
         "Male",
         "No",
         "Sun",
         "Dinner",
         "2"
        ],
        [
         "4",
         "24.59",
         "3.61",
         "Female",
         "No",
         "Sun",
         "Dinner",
         "4"
        ],
        [
         "5",
         "25.29",
         "4.71",
         "Male",
         "No",
         "Sun",
         "Dinner",
         "4"
        ],
        [
         "6",
         "8.77",
         "2.0",
         "Male",
         "No",
         "Sun",
         "Dinner",
         "2"
        ],
        [
         "7",
         "26.88",
         "3.12",
         "Male",
         "No",
         "Sun",
         "Dinner",
         "4"
        ],
        [
         "8",
         "15.04",
         "1.96",
         "Male",
         "No",
         "Sun",
         "Dinner",
         "2"
        ],
        [
         "9",
         "14.78",
         "3.23",
         "Male",
         "No",
         "Sun",
         "Dinner",
         "2"
        ],
        [
         "10",
         "10.27",
         "1.71",
         "Male",
         "No",
         "Sun",
         "Dinner",
         "2"
        ],
        [
         "11",
         "35.26",
         "5.0",
         "Female",
         "No",
         "Sun",
         "Dinner",
         "4"
        ],
        [
         "12",
         "15.42",
         "1.57",
         "Male",
         "No",
         "Sun",
         "Dinner",
         "2"
        ],
        [
         "13",
         "18.43",
         "3.0",
         "Male",
         "No",
         "Sun",
         "Dinner",
         "4"
        ],
        [
         "14",
         "14.83",
         "3.02",
         "Female",
         "No",
         "Sun",
         "Dinner",
         "2"
        ],
        [
         "15",
         "21.58",
         "3.92",
         "Male",
         "No",
         "Sun",
         "Dinner",
         "2"
        ],
        [
         "16",
         "10.33",
         "1.67",
         "Female",
         "No",
         "Sun",
         "Dinner",
         "3"
        ],
        [
         "17",
         "16.29",
         "3.71",
         "Male",
         "No",
         "Sun",
         "Dinner",
         "3"
        ],
        [
         "18",
         "16.97",
         "3.5",
         "Female",
         "No",
         "Sun",
         "Dinner",
         "3"
        ],
        [
         "19",
         "20.65",
         "3.35",
         "Male",
         "No",
         "Sat",
         "Dinner",
         "3"
        ],
        [
         "20",
         "17.92",
         "4.08",
         "Male",
         "No",
         "Sat",
         "Dinner",
         "2"
        ],
        [
         "21",
         "20.29",
         "2.75",
         "Female",
         "No",
         "Sat",
         "Dinner",
         "2"
        ],
        [
         "22",
         "15.77",
         "2.23",
         "Female",
         "No",
         "Sat",
         "Dinner",
         "2"
        ],
        [
         "23",
         "39.42",
         "7.58",
         "Male",
         "No",
         "Sat",
         "Dinner",
         "4"
        ],
        [
         "24",
         "19.82",
         "3.18",
         "Male",
         "No",
         "Sat",
         "Dinner",
         "2"
        ],
        [
         "25",
         "17.81",
         "2.34",
         "Male",
         "No",
         "Sat",
         "Dinner",
         "4"
        ],
        [
         "26",
         "13.37",
         "2.0",
         "Male",
         "No",
         "Sat",
         "Dinner",
         "2"
        ],
        [
         "27",
         "12.69",
         "2.0",
         "Male",
         "No",
         "Sat",
         "Dinner",
         "2"
        ],
        [
         "28",
         "21.7",
         "4.3",
         "Male",
         "No",
         "Sat",
         "Dinner",
         "2"
        ],
        [
         "29",
         "19.65",
         "3.0",
         "Female",
         "No",
         "Sat",
         "Dinner",
         "2"
        ],
        [
         "30",
         "9.55",
         "1.45",
         "Male",
         "No",
         "Sat",
         "Dinner",
         "2"
        ],
        [
         "31",
         "18.35",
         "2.5",
         "Male",
         "No",
         "Sat",
         "Dinner",
         "4"
        ],
        [
         "32",
         "15.06",
         "3.0",
         "Female",
         "No",
         "Sat",
         "Dinner",
         "2"
        ],
        [
         "33",
         "20.69",
         "2.45",
         "Female",
         "No",
         "Sat",
         "Dinner",
         "4"
        ],
        [
         "34",
         "17.78",
         "3.27",
         "Male",
         "No",
         "Sat",
         "Dinner",
         "2"
        ],
        [
         "35",
         "24.06",
         "3.6",
         "Male",
         "No",
         "Sat",
         "Dinner",
         "3"
        ],
        [
         "36",
         "16.31",
         "2.0",
         "Male",
         "No",
         "Sat",
         "Dinner",
         "3"
        ],
        [
         "37",
         "16.93",
         "3.07",
         "Female",
         "No",
         "Sat",
         "Dinner",
         "3"
        ],
        [
         "38",
         "18.69",
         "2.31",
         "Male",
         "No",
         "Sat",
         "Dinner",
         "3"
        ],
        [
         "39",
         "31.27",
         "5.0",
         "Male",
         "No",
         "Sat",
         "Dinner",
         "3"
        ],
        [
         "40",
         "16.04",
         "2.24",
         "Male",
         "No",
         "Sat",
         "Dinner",
         "3"
        ],
        [
         "41",
         "17.46",
         "2.54",
         "Male",
         "No",
         "Sun",
         "Dinner",
         "2"
        ],
        [
         "42",
         "13.94",
         "3.06",
         "Male",
         "No",
         "Sun",
         "Dinner",
         "2"
        ],
        [
         "43",
         "9.68",
         "1.32",
         "Male",
         "No",
         "Sun",
         "Dinner",
         "2"
        ],
        [
         "44",
         "30.4",
         "5.6",
         "Male",
         "No",
         "Sun",
         "Dinner",
         "4"
        ],
        [
         "45",
         "18.29",
         "3.0",
         "Male",
         "No",
         "Sun",
         "Dinner",
         "2"
        ],
        [
         "46",
         "22.23",
         "5.0",
         "Male",
         "No",
         "Sun",
         "Dinner",
         "2"
        ],
        [
         "47",
         "32.4",
         "6.0",
         "Male",
         "No",
         "Sun",
         "Dinner",
         "4"
        ],
        [
         "48",
         "28.55",
         "2.05",
         "Male",
         "No",
         "Sun",
         "Dinner",
         "3"
        ],
        [
         "49",
         "18.04",
         "3.0",
         "Male",
         "No",
         "Sun",
         "Dinner",
         "2"
        ]
       ],
       "shape": {
        "columns": 7,
        "rows": 244
       }
      },
      "text/html": [
       "<div>\n",
       "<style scoped>\n",
       "    .dataframe tbody tr th:only-of-type {\n",
       "        vertical-align: middle;\n",
       "    }\n",
       "\n",
       "    .dataframe tbody tr th {\n",
       "        vertical-align: top;\n",
       "    }\n",
       "\n",
       "    .dataframe thead th {\n",
       "        text-align: right;\n",
       "    }\n",
       "</style>\n",
       "<table border=\"1\" class=\"dataframe\">\n",
       "  <thead>\n",
       "    <tr style=\"text-align: right;\">\n",
       "      <th></th>\n",
       "      <th>total_bill</th>\n",
       "      <th>tip</th>\n",
       "      <th>sex</th>\n",
       "      <th>smoker</th>\n",
       "      <th>day</th>\n",
       "      <th>time</th>\n",
       "      <th>size</th>\n",
       "    </tr>\n",
       "  </thead>\n",
       "  <tbody>\n",
       "    <tr>\n",
       "      <th>0</th>\n",
       "      <td>16.99</td>\n",
       "      <td>1.01</td>\n",
       "      <td>Female</td>\n",
       "      <td>No</td>\n",
       "      <td>Sun</td>\n",
       "      <td>Dinner</td>\n",
       "      <td>2</td>\n",
       "    </tr>\n",
       "    <tr>\n",
       "      <th>1</th>\n",
       "      <td>10.34</td>\n",
       "      <td>1.66</td>\n",
       "      <td>Male</td>\n",
       "      <td>No</td>\n",
       "      <td>Sun</td>\n",
       "      <td>Dinner</td>\n",
       "      <td>3</td>\n",
       "    </tr>\n",
       "    <tr>\n",
       "      <th>2</th>\n",
       "      <td>21.01</td>\n",
       "      <td>3.50</td>\n",
       "      <td>Male</td>\n",
       "      <td>No</td>\n",
       "      <td>Sun</td>\n",
       "      <td>Dinner</td>\n",
       "      <td>3</td>\n",
       "    </tr>\n",
       "    <tr>\n",
       "      <th>3</th>\n",
       "      <td>23.68</td>\n",
       "      <td>3.31</td>\n",
       "      <td>Male</td>\n",
       "      <td>No</td>\n",
       "      <td>Sun</td>\n",
       "      <td>Dinner</td>\n",
       "      <td>2</td>\n",
       "    </tr>\n",
       "    <tr>\n",
       "      <th>4</th>\n",
       "      <td>24.59</td>\n",
       "      <td>3.61</td>\n",
       "      <td>Female</td>\n",
       "      <td>No</td>\n",
       "      <td>Sun</td>\n",
       "      <td>Dinner</td>\n",
       "      <td>4</td>\n",
       "    </tr>\n",
       "    <tr>\n",
       "      <th>...</th>\n",
       "      <td>...</td>\n",
       "      <td>...</td>\n",
       "      <td>...</td>\n",
       "      <td>...</td>\n",
       "      <td>...</td>\n",
       "      <td>...</td>\n",
       "      <td>...</td>\n",
       "    </tr>\n",
       "    <tr>\n",
       "      <th>239</th>\n",
       "      <td>29.03</td>\n",
       "      <td>5.92</td>\n",
       "      <td>Male</td>\n",
       "      <td>No</td>\n",
       "      <td>Sat</td>\n",
       "      <td>Dinner</td>\n",
       "      <td>3</td>\n",
       "    </tr>\n",
       "    <tr>\n",
       "      <th>240</th>\n",
       "      <td>27.18</td>\n",
       "      <td>2.00</td>\n",
       "      <td>Female</td>\n",
       "      <td>Yes</td>\n",
       "      <td>Sat</td>\n",
       "      <td>Dinner</td>\n",
       "      <td>2</td>\n",
       "    </tr>\n",
       "    <tr>\n",
       "      <th>241</th>\n",
       "      <td>22.67</td>\n",
       "      <td>2.00</td>\n",
       "      <td>Male</td>\n",
       "      <td>Yes</td>\n",
       "      <td>Sat</td>\n",
       "      <td>Dinner</td>\n",
       "      <td>2</td>\n",
       "    </tr>\n",
       "    <tr>\n",
       "      <th>242</th>\n",
       "      <td>17.82</td>\n",
       "      <td>1.75</td>\n",
       "      <td>Male</td>\n",
       "      <td>No</td>\n",
       "      <td>Sat</td>\n",
       "      <td>Dinner</td>\n",
       "      <td>2</td>\n",
       "    </tr>\n",
       "    <tr>\n",
       "      <th>243</th>\n",
       "      <td>18.78</td>\n",
       "      <td>3.00</td>\n",
       "      <td>Female</td>\n",
       "      <td>No</td>\n",
       "      <td>Thur</td>\n",
       "      <td>Dinner</td>\n",
       "      <td>2</td>\n",
       "    </tr>\n",
       "  </tbody>\n",
       "</table>\n",
       "<p>244 rows × 7 columns</p>\n",
       "</div>"
      ],
      "text/plain": [
       "     total_bill   tip     sex smoker   day    time  size\n",
       "0         16.99  1.01  Female     No   Sun  Dinner     2\n",
       "1         10.34  1.66    Male     No   Sun  Dinner     3\n",
       "2         21.01  3.50    Male     No   Sun  Dinner     3\n",
       "3         23.68  3.31    Male     No   Sun  Dinner     2\n",
       "4         24.59  3.61  Female     No   Sun  Dinner     4\n",
       "..          ...   ...     ...    ...   ...     ...   ...\n",
       "239       29.03  5.92    Male     No   Sat  Dinner     3\n",
       "240       27.18  2.00  Female    Yes   Sat  Dinner     2\n",
       "241       22.67  2.00    Male    Yes   Sat  Dinner     2\n",
       "242       17.82  1.75    Male     No   Sat  Dinner     2\n",
       "243       18.78  3.00  Female     No  Thur  Dinner     2\n",
       "\n",
       "[244 rows x 7 columns]"
      ]
     },
     "execution_count": 4,
     "metadata": {},
     "output_type": "execute_result"
    }
   ],
   "source": [
    "data"
   ]
  },
  {
   "cell_type": "code",
   "execution_count": 5,
   "id": "655c2d14",
   "metadata": {},
   "outputs": [],
   "source": [
    "correlation_tips = data[['total_bill','tip','size']]"
   ]
  },
  {
   "cell_type": "code",
   "execution_count": 6,
   "id": "9acf5955",
   "metadata": {},
   "outputs": [
    {
     "data": {
      "application/vnd.microsoft.datawrangler.viewer.v0+json": {
       "columns": [
        {
         "name": "index",
         "rawType": "int64",
         "type": "integer"
        },
        {
         "name": "total_bill",
         "rawType": "float64",
         "type": "float"
        },
        {
         "name": "tip",
         "rawType": "float64",
         "type": "float"
        },
        {
         "name": "size",
         "rawType": "int64",
         "type": "integer"
        }
       ],
       "ref": "06bd8c44-a13a-42d2-bfd3-b248e8455153",
       "rows": [
        [
         "0",
         "16.99",
         "1.01",
         "2"
        ],
        [
         "1",
         "10.34",
         "1.66",
         "3"
        ],
        [
         "2",
         "21.01",
         "3.5",
         "3"
        ],
        [
         "3",
         "23.68",
         "3.31",
         "2"
        ],
        [
         "4",
         "24.59",
         "3.61",
         "4"
        ],
        [
         "5",
         "25.29",
         "4.71",
         "4"
        ],
        [
         "6",
         "8.77",
         "2.0",
         "2"
        ],
        [
         "7",
         "26.88",
         "3.12",
         "4"
        ],
        [
         "8",
         "15.04",
         "1.96",
         "2"
        ],
        [
         "9",
         "14.78",
         "3.23",
         "2"
        ],
        [
         "10",
         "10.27",
         "1.71",
         "2"
        ],
        [
         "11",
         "35.26",
         "5.0",
         "4"
        ],
        [
         "12",
         "15.42",
         "1.57",
         "2"
        ],
        [
         "13",
         "18.43",
         "3.0",
         "4"
        ],
        [
         "14",
         "14.83",
         "3.02",
         "2"
        ],
        [
         "15",
         "21.58",
         "3.92",
         "2"
        ],
        [
         "16",
         "10.33",
         "1.67",
         "3"
        ],
        [
         "17",
         "16.29",
         "3.71",
         "3"
        ],
        [
         "18",
         "16.97",
         "3.5",
         "3"
        ],
        [
         "19",
         "20.65",
         "3.35",
         "3"
        ],
        [
         "20",
         "17.92",
         "4.08",
         "2"
        ],
        [
         "21",
         "20.29",
         "2.75",
         "2"
        ],
        [
         "22",
         "15.77",
         "2.23",
         "2"
        ],
        [
         "23",
         "39.42",
         "7.58",
         "4"
        ],
        [
         "24",
         "19.82",
         "3.18",
         "2"
        ],
        [
         "25",
         "17.81",
         "2.34",
         "4"
        ],
        [
         "26",
         "13.37",
         "2.0",
         "2"
        ],
        [
         "27",
         "12.69",
         "2.0",
         "2"
        ],
        [
         "28",
         "21.7",
         "4.3",
         "2"
        ],
        [
         "29",
         "19.65",
         "3.0",
         "2"
        ],
        [
         "30",
         "9.55",
         "1.45",
         "2"
        ],
        [
         "31",
         "18.35",
         "2.5",
         "4"
        ],
        [
         "32",
         "15.06",
         "3.0",
         "2"
        ],
        [
         "33",
         "20.69",
         "2.45",
         "4"
        ],
        [
         "34",
         "17.78",
         "3.27",
         "2"
        ],
        [
         "35",
         "24.06",
         "3.6",
         "3"
        ],
        [
         "36",
         "16.31",
         "2.0",
         "3"
        ],
        [
         "37",
         "16.93",
         "3.07",
         "3"
        ],
        [
         "38",
         "18.69",
         "2.31",
         "3"
        ],
        [
         "39",
         "31.27",
         "5.0",
         "3"
        ],
        [
         "40",
         "16.04",
         "2.24",
         "3"
        ],
        [
         "41",
         "17.46",
         "2.54",
         "2"
        ],
        [
         "42",
         "13.94",
         "3.06",
         "2"
        ],
        [
         "43",
         "9.68",
         "1.32",
         "2"
        ],
        [
         "44",
         "30.4",
         "5.6",
         "4"
        ],
        [
         "45",
         "18.29",
         "3.0",
         "2"
        ],
        [
         "46",
         "22.23",
         "5.0",
         "2"
        ],
        [
         "47",
         "32.4",
         "6.0",
         "4"
        ],
        [
         "48",
         "28.55",
         "2.05",
         "3"
        ],
        [
         "49",
         "18.04",
         "3.0",
         "2"
        ]
       ],
       "shape": {
        "columns": 3,
        "rows": 244
       }
      },
      "text/html": [
       "<div>\n",
       "<style scoped>\n",
       "    .dataframe tbody tr th:only-of-type {\n",
       "        vertical-align: middle;\n",
       "    }\n",
       "\n",
       "    .dataframe tbody tr th {\n",
       "        vertical-align: top;\n",
       "    }\n",
       "\n",
       "    .dataframe thead th {\n",
       "        text-align: right;\n",
       "    }\n",
       "</style>\n",
       "<table border=\"1\" class=\"dataframe\">\n",
       "  <thead>\n",
       "    <tr style=\"text-align: right;\">\n",
       "      <th></th>\n",
       "      <th>total_bill</th>\n",
       "      <th>tip</th>\n",
       "      <th>size</th>\n",
       "    </tr>\n",
       "  </thead>\n",
       "  <tbody>\n",
       "    <tr>\n",
       "      <th>0</th>\n",
       "      <td>16.99</td>\n",
       "      <td>1.01</td>\n",
       "      <td>2</td>\n",
       "    </tr>\n",
       "    <tr>\n",
       "      <th>1</th>\n",
       "      <td>10.34</td>\n",
       "      <td>1.66</td>\n",
       "      <td>3</td>\n",
       "    </tr>\n",
       "    <tr>\n",
       "      <th>2</th>\n",
       "      <td>21.01</td>\n",
       "      <td>3.50</td>\n",
       "      <td>3</td>\n",
       "    </tr>\n",
       "    <tr>\n",
       "      <th>3</th>\n",
       "      <td>23.68</td>\n",
       "      <td>3.31</td>\n",
       "      <td>2</td>\n",
       "    </tr>\n",
       "    <tr>\n",
       "      <th>4</th>\n",
       "      <td>24.59</td>\n",
       "      <td>3.61</td>\n",
       "      <td>4</td>\n",
       "    </tr>\n",
       "    <tr>\n",
       "      <th>...</th>\n",
       "      <td>...</td>\n",
       "      <td>...</td>\n",
       "      <td>...</td>\n",
       "    </tr>\n",
       "    <tr>\n",
       "      <th>239</th>\n",
       "      <td>29.03</td>\n",
       "      <td>5.92</td>\n",
       "      <td>3</td>\n",
       "    </tr>\n",
       "    <tr>\n",
       "      <th>240</th>\n",
       "      <td>27.18</td>\n",
       "      <td>2.00</td>\n",
       "      <td>2</td>\n",
       "    </tr>\n",
       "    <tr>\n",
       "      <th>241</th>\n",
       "      <td>22.67</td>\n",
       "      <td>2.00</td>\n",
       "      <td>2</td>\n",
       "    </tr>\n",
       "    <tr>\n",
       "      <th>242</th>\n",
       "      <td>17.82</td>\n",
       "      <td>1.75</td>\n",
       "      <td>2</td>\n",
       "    </tr>\n",
       "    <tr>\n",
       "      <th>243</th>\n",
       "      <td>18.78</td>\n",
       "      <td>3.00</td>\n",
       "      <td>2</td>\n",
       "    </tr>\n",
       "  </tbody>\n",
       "</table>\n",
       "<p>244 rows × 3 columns</p>\n",
       "</div>"
      ],
      "text/plain": [
       "     total_bill   tip  size\n",
       "0         16.99  1.01     2\n",
       "1         10.34  1.66     3\n",
       "2         21.01  3.50     3\n",
       "3         23.68  3.31     2\n",
       "4         24.59  3.61     4\n",
       "..          ...   ...   ...\n",
       "239       29.03  5.92     3\n",
       "240       27.18  2.00     2\n",
       "241       22.67  2.00     2\n",
       "242       17.82  1.75     2\n",
       "243       18.78  3.00     2\n",
       "\n",
       "[244 rows x 3 columns]"
      ]
     },
     "execution_count": 6,
     "metadata": {},
     "output_type": "execute_result"
    }
   ],
   "source": [
    "correlation_tips"
   ]
  },
  {
   "cell_type": "markdown",
   "id": "cb5f008b",
   "metadata": {},
   "source": [
    "To find the correlation between two variables in a dataset, you can use the corr() function in Seaborn. Here's an example of how to do it:"
   ]
  },
  {
   "cell_type": "code",
   "execution_count": 7,
   "id": "717004f9",
   "metadata": {},
   "outputs": [
    {
     "data": {
      "application/vnd.microsoft.datawrangler.viewer.v0+json": {
       "columns": [
        {
         "name": "index",
         "rawType": "object",
         "type": "string"
        },
        {
         "name": "total_bill",
         "rawType": "float64",
         "type": "float"
        },
        {
         "name": "tip",
         "rawType": "float64",
         "type": "float"
        },
        {
         "name": "size",
         "rawType": "float64",
         "type": "float"
        }
       ],
       "ref": "5440cf25-6abc-4a4b-b12e-b2c12e8effea",
       "rows": [
        [
         "total_bill",
         "1.0",
         "0.6757341092113648",
         "0.5983151309049014"
        ],
        [
         "tip",
         "0.6757341092113648",
         "1.0",
         "0.48929877523035714"
        ],
        [
         "size",
         "0.5983151309049014",
         "0.48929877523035714",
         "1.0"
        ]
       ],
       "shape": {
        "columns": 3,
        "rows": 3
       }
      },
      "text/html": [
       "<div>\n",
       "<style scoped>\n",
       "    .dataframe tbody tr th:only-of-type {\n",
       "        vertical-align: middle;\n",
       "    }\n",
       "\n",
       "    .dataframe tbody tr th {\n",
       "        vertical-align: top;\n",
       "    }\n",
       "\n",
       "    .dataframe thead th {\n",
       "        text-align: right;\n",
       "    }\n",
       "</style>\n",
       "<table border=\"1\" class=\"dataframe\">\n",
       "  <thead>\n",
       "    <tr style=\"text-align: right;\">\n",
       "      <th></th>\n",
       "      <th>total_bill</th>\n",
       "      <th>tip</th>\n",
       "      <th>size</th>\n",
       "    </tr>\n",
       "  </thead>\n",
       "  <tbody>\n",
       "    <tr>\n",
       "      <th>total_bill</th>\n",
       "      <td>1.000000</td>\n",
       "      <td>0.675734</td>\n",
       "      <td>0.598315</td>\n",
       "    </tr>\n",
       "    <tr>\n",
       "      <th>tip</th>\n",
       "      <td>0.675734</td>\n",
       "      <td>1.000000</td>\n",
       "      <td>0.489299</td>\n",
       "    </tr>\n",
       "    <tr>\n",
       "      <th>size</th>\n",
       "      <td>0.598315</td>\n",
       "      <td>0.489299</td>\n",
       "      <td>1.000000</td>\n",
       "    </tr>\n",
       "  </tbody>\n",
       "</table>\n",
       "</div>"
      ],
      "text/plain": [
       "            total_bill       tip      size\n",
       "total_bill    1.000000  0.675734  0.598315\n",
       "tip           0.675734  1.000000  0.489299\n",
       "size          0.598315  0.489299  1.000000"
      ]
     },
     "execution_count": 7,
     "metadata": {},
     "output_type": "execute_result"
    }
   ],
   "source": [
    "correlation_tips.corr()"
   ]
  },
  {
   "cell_type": "markdown",
   "id": "b42546c4",
   "metadata": {},
   "source": [
    "# To implement heatmap "
   ]
  },
  {
   "cell_type": "code",
   "execution_count": 8,
   "id": "a89b8226",
   "metadata": {},
   "outputs": [
    {
     "data": {
      "text/plain": [
       "<Axes: >"
      ]
     },
     "execution_count": 8,
     "metadata": {},
     "output_type": "execute_result"
    },
    {
     "data": {
      "image/png": "[encoded data removed]",
      "text/plain": [
       "<Figure size 640x480 with 2 Axes>"
      ]
     },
     "metadata": {},
     "output_type": "display_data"
    }
   ],
   "source": [
    "sns.heatmap(correlation_tips.corr(), annot=True, cmap='coolwarm')"
   ]
  },
  {
   "cell_type": "markdown",
   "id": "ce753408",
   "metadata": {},
   "source": [
    "Also take the value of non-numerical columns and convert them into numerical columns."
   ]
  },
  {
   "cell_type": "code",
   "execution_count": 9,
   "id": "49de18c7",
   "metadata": {},
   "outputs": [
    {
     "data": {
      "application/vnd.microsoft.datawrangler.viewer.v0+json": {
       "columns": [
        {
         "name": "index",
         "rawType": "int64",
         "type": "integer"
        },
        {
         "name": "total_bill",
         "rawType": "float64",
         "type": "float"
        },
        {
         "name": "tip",
         "rawType": "float64",
         "type": "float"
        },
        {
         "name": "sex",
         "rawType": "category",
         "type": "unknown"
        },
        {
         "name": "smoker",
         "rawType": "category",
         "type": "unknown"
        },
        {
         "name": "day",
         "rawType": "category",
         "type": "unknown"
        },
        {
         "name": "time",
         "rawType": "category",
         "type": "unknown"
        },
        {
         "name": "size",
         "rawType": "int64",
         "type": "integer"
        }
       ],
       "ref": "44e94248-6121-4c12-82f8-d43923f1de0d",
       "rows": [
        [
         "0",
         "16.99",
         "1.01",
         "Female",
         "No",
         "Sun",
         "Dinner",
         "2"
        ],
        [
         "1",
         "10.34",
         "1.66",
         "Male",
         "No",
         "Sun",
         "Dinner",
         "3"
        ],
        [
         "2",
         "21.01",
         "3.5",
         "Male",
         "No",
         "Sun",
         "Dinner",
         "3"
        ],
        [
         "3",
         "23.68",
         "3.31",
         "Male",
         "No",
         "Sun",
         "Dinner",
         "2"
        ],
        [
         "4",
         "24.59",
         "3.61",
         "Female",
         "No",
         "Sun",
         "Dinner",
         "4"
        ],
        [
         "5",
         "25.29",
         "4.71",
         "Male",
         "No",
         "Sun",
         "Dinner",
         "4"
        ],
        [
         "6",
         "8.77",
         "2.0",
         "Male",
         "No",
         "Sun",
         "Dinner",
         "2"
        ],
        [
         "7",
         "26.88",
         "3.12",
         "Male",
         "No",
         "Sun",
         "Dinner",
         "4"
        ],
        [
         "8",
         "15.04",
         "1.96",
         "Male",
         "No",
         "Sun",
         "Dinner",
         "2"
        ],
        [
         "9",
         "14.78",
         "3.23",
         "Male",
         "No",
         "Sun",
         "Dinner",
         "2"
        ],
        [
         "10",
         "10.27",
         "1.71",
         "Male",
         "No",
         "Sun",
         "Dinner",
         "2"
        ],
        [
         "11",
         "35.26",
         "5.0",
         "Female",
         "No",
         "Sun",
         "Dinner",
         "4"
        ],
        [
         "12",
         "15.42",
         "1.57",
         "Male",
         "No",
         "Sun",
         "Dinner",
         "2"
        ],
        [
         "13",
         "18.43",
         "3.0",
         "Male",
         "No",
         "Sun",
         "Dinner",
         "4"
        ],
        [
         "14",
         "14.83",
         "3.02",
         "Female",
         "No",
         "Sun",
         "Dinner",
         "2"
        ],
        [
         "15",
         "21.58",
         "3.92",
         "Male",
         "No",
         "Sun",
         "Dinner",
         "2"
        ],
        [
         "16",
         "10.33",
         "1.67",
         "Female",
         "No",
         "Sun",
         "Dinner",
         "3"
        ],
        [
         "17",
         "16.29",
         "3.71",
         "Male",
         "No",
         "Sun",
         "Dinner",
         "3"
        ],
        [
         "18",
         "16.97",
         "3.5",
         "Female",
         "No",
         "Sun",
         "Dinner",
         "3"
        ],
        [
         "19",
         "20.65",
         "3.35",
         "Male",
         "No",
         "Sat",
         "Dinner",
         "3"
        ],
        [
         "20",
         "17.92",
         "4.08",
         "Male",
         "No",
         "Sat",
         "Dinner",
         "2"
        ],
        [
         "21",
         "20.29",
         "2.75",
         "Female",
         "No",
         "Sat",
         "Dinner",
         "2"
        ],
        [
         "22",
         "15.77",
         "2.23",
         "Female",
         "No",
         "Sat",
         "Dinner",
         "2"
        ],
        [
         "23",
         "39.42",
         "7.58",
         "Male",
         "No",
         "Sat",
         "Dinner",
         "4"
        ],
        [
         "24",
         "19.82",
         "3.18",
         "Male",
         "No",
         "Sat",
         "Dinner",
         "2"
        ],
        [
         "25",
         "17.81",
         "2.34",
         "Male",
         "No",
         "Sat",
         "Dinner",
         "4"
        ],
        [
         "26",
         "13.37",
         "2.0",
         "Male",
         "No",
         "Sat",
         "Dinner",
         "2"
        ],
        [
         "27",
         "12.69",
         "2.0",
         "Male",
         "No",
         "Sat",
         "Dinner",
         "2"
        ],
        [
         "28",
         "21.7",
         "4.3",
         "Male",
         "No",
         "Sat",
         "Dinner",
         "2"
        ],
        [
         "29",
         "19.65",
         "3.0",
         "Female",
         "No",
         "Sat",
         "Dinner",
         "2"
        ],
        [
         "30",
         "9.55",
         "1.45",
         "Male",
         "No",
         "Sat",
         "Dinner",
         "2"
        ],
        [
         "31",
         "18.35",
         "2.5",
         "Male",
         "No",
         "Sat",
         "Dinner",
         "4"
        ],
        [
         "32",
         "15.06",
         "3.0",
         "Female",
         "No",
         "Sat",
         "Dinner",
         "2"
        ],
        [
         "33",
         "20.69",
         "2.45",
         "Female",
         "No",
         "Sat",
         "Dinner",
         "4"
        ],
        [
         "34",
         "17.78",
         "3.27",
         "Male",
         "No",
         "Sat",
         "Dinner",
         "2"
        ],
        [
         "35",
         "24.06",
         "3.6",
         "Male",
         "No",
         "Sat",
         "Dinner",
         "3"
        ],
        [
         "36",
         "16.31",
         "2.0",
         "Male",
         "No",
         "Sat",
         "Dinner",
         "3"
        ],
        [
         "37",
         "16.93",
         "3.07",
         "Female",
         "No",
         "Sat",
         "Dinner",
         "3"
        ],
        [
         "38",
         "18.69",
         "2.31",
         "Male",
         "No",
         "Sat",
         "Dinner",
         "3"
        ],
        [
         "39",
         "31.27",
         "5.0",
         "Male",
         "No",
         "Sat",
         "Dinner",
         "3"
        ],
        [
         "40",
         "16.04",
         "2.24",
         "Male",
         "No",
         "Sat",
         "Dinner",
         "3"
        ],
        [
         "41",
         "17.46",
         "2.54",
         "Male",
         "No",
         "Sun",
         "Dinner",
         "2"
        ],
        [
         "42",
         "13.94",
         "3.06",
         "Male",
         "No",
         "Sun",
         "Dinner",
         "2"
        ],
        [
         "43",
         "9.68",
         "1.32",
         "Male",
         "No",
         "Sun",
         "Dinner",
         "2"
        ],
        [
         "44",
         "30.4",
         "5.6",
         "Male",
         "No",
         "Sun",
         "Dinner",
         "4"
        ],
        [
         "45",
         "18.29",
         "3.0",
         "Male",
         "No",
         "Sun",
         "Dinner",
         "2"
        ],
        [
         "46",
         "22.23",
         "5.0",
         "Male",
         "No",
         "Sun",
         "Dinner",
         "2"
        ],
        [
         "47",
         "32.4",
         "6.0",
         "Male",
         "No",
         "Sun",
         "Dinner",
         "4"
        ],
        [
         "48",
         "28.55",
         "2.05",
         "Male",
         "No",
         "Sun",
         "Dinner",
         "3"
        ],
        [
         "49",
         "18.04",
         "3.0",
         "Male",
         "No",
         "Sun",
         "Dinner",
         "2"
        ]
       ],
       "shape": {
        "columns": 7,
        "rows": 244
       }
      },
      "text/html": [
       "<div>\n",
       "<style scoped>\n",
       "    .dataframe tbody tr th:only-of-type {\n",
       "        vertical-align: middle;\n",
       "    }\n",
       "\n",
       "    .dataframe tbody tr th {\n",
       "        vertical-align: top;\n",
       "    }\n",
       "\n",
       "    .dataframe thead th {\n",
       "        text-align: right;\n",
       "    }\n",
       "</style>\n",
       "<table border=\"1\" class=\"dataframe\">\n",
       "  <thead>\n",
       "    <tr style=\"text-align: right;\">\n",
       "      <th></th>\n",
       "      <th>total_bill</th>\n",
       "      <th>tip</th>\n",
       "      <th>sex</th>\n",
       "      <th>smoker</th>\n",
       "      <th>day</th>\n",
       "      <th>time</th>\n",
       "      <th>size</th>\n",
       "    </tr>\n",
       "  </thead>\n",
       "  <tbody>\n",
       "    <tr>\n",
       "      <th>0</th>\n",
       "      <td>16.99</td>\n",
       "      <td>1.01</td>\n",
       "      <td>Female</td>\n",
       "      <td>No</td>\n",
       "      <td>Sun</td>\n",
       "      <td>Dinner</td>\n",
       "      <td>2</td>\n",
       "    </tr>\n",
       "    <tr>\n",
       "      <th>1</th>\n",
       "      <td>10.34</td>\n",
       "      <td>1.66</td>\n",
       "      <td>Male</td>\n",
       "      <td>No</td>\n",
       "      <td>Sun</td>\n",
       "      <td>Dinner</td>\n",
       "      <td>3</td>\n",
       "    </tr>\n",
       "    <tr>\n",
       "      <th>2</th>\n",
       "      <td>21.01</td>\n",
       "      <td>3.50</td>\n",
       "      <td>Male</td>\n",
       "      <td>No</td>\n",
       "      <td>Sun</td>\n",
       "      <td>Dinner</td>\n",
       "      <td>3</td>\n",
       "    </tr>\n",
       "    <tr>\n",
       "      <th>3</th>\n",
       "      <td>23.68</td>\n",
       "      <td>3.31</td>\n",
       "      <td>Male</td>\n",
       "      <td>No</td>\n",
       "      <td>Sun</td>\n",
       "      <td>Dinner</td>\n",
       "      <td>2</td>\n",
       "    </tr>\n",
       "    <tr>\n",
       "      <th>4</th>\n",
       "      <td>24.59</td>\n",
       "      <td>3.61</td>\n",
       "      <td>Female</td>\n",
       "      <td>No</td>\n",
       "      <td>Sun</td>\n",
       "      <td>Dinner</td>\n",
       "      <td>4</td>\n",
       "    </tr>\n",
       "    <tr>\n",
       "      <th>...</th>\n",
       "      <td>...</td>\n",
       "      <td>...</td>\n",
       "      <td>...</td>\n",
       "      <td>...</td>\n",
       "      <td>...</td>\n",
       "      <td>...</td>\n",
       "      <td>...</td>\n",
       "    </tr>\n",
       "    <tr>\n",
       "      <th>239</th>\n",
       "      <td>29.03</td>\n",
       "      <td>5.92</td>\n",
       "      <td>Male</td>\n",
       "      <td>No</td>\n",
       "      <td>Sat</td>\n",
       "      <td>Dinner</td>\n",
       "      <td>3</td>\n",
       "    </tr>\n",
       "    <tr>\n",
       "      <th>240</th>\n",
       "      <td>27.18</td>\n",
       "      <td>2.00</td>\n",
       "      <td>Female</td>\n",
       "      <td>Yes</td>\n",
       "      <td>Sat</td>\n",
       "      <td>Dinner</td>\n",
       "      <td>2</td>\n",
       "    </tr>\n",
       "    <tr>\n",
       "      <th>241</th>\n",
       "      <td>22.67</td>\n",
       "      <td>2.00</td>\n",
       "      <td>Male</td>\n",
       "      <td>Yes</td>\n",
       "      <td>Sat</td>\n",
       "      <td>Dinner</td>\n",
       "      <td>2</td>\n",
       "    </tr>\n",
       "    <tr>\n",
       "      <th>242</th>\n",
       "      <td>17.82</td>\n",
       "      <td>1.75</td>\n",
       "      <td>Male</td>\n",
       "      <td>No</td>\n",
       "      <td>Sat</td>\n",
       "      <td>Dinner</td>\n",
       "      <td>2</td>\n",
       "    </tr>\n",
       "    <tr>\n",
       "      <th>243</th>\n",
       "      <td>18.78</td>\n",
       "      <td>3.00</td>\n",
       "      <td>Female</td>\n",
       "      <td>No</td>\n",
       "      <td>Thur</td>\n",
       "      <td>Dinner</td>\n",
       "      <td>2</td>\n",
       "    </tr>\n",
       "  </tbody>\n",
       "</table>\n",
       "<p>244 rows × 7 columns</p>\n",
       "</div>"
      ],
      "text/plain": [
       "     total_bill   tip     sex smoker   day    time  size\n",
       "0         16.99  1.01  Female     No   Sun  Dinner     2\n",
       "1         10.34  1.66    Male     No   Sun  Dinner     3\n",
       "2         21.01  3.50    Male     No   Sun  Dinner     3\n",
       "3         23.68  3.31    Male     No   Sun  Dinner     2\n",
       "4         24.59  3.61  Female     No   Sun  Dinner     4\n",
       "..          ...   ...     ...    ...   ...     ...   ...\n",
       "239       29.03  5.92    Male     No   Sat  Dinner     3\n",
       "240       27.18  2.00  Female    Yes   Sat  Dinner     2\n",
       "241       22.67  2.00    Male    Yes   Sat  Dinner     2\n",
       "242       17.82  1.75    Male     No   Sat  Dinner     2\n",
       "243       18.78  3.00  Female     No  Thur  Dinner     2\n",
       "\n",
       "[244 rows x 7 columns]"
      ]
     },
     "execution_count": 9,
     "metadata": {},
     "output_type": "execute_result"
    }
   ],
   "source": [
    "data"
   ]
  },
  {
   "cell_type": "code",
   "execution_count": 10,
   "id": "6feca69e",
   "metadata": {},
   "outputs": [],
   "source": [
    "non_numeric_colums  = data[['sex','smoker','day','time']]"
   ]
  },
  {
   "cell_type": "code",
   "execution_count": 11,
   "id": "aacc9d9c",
   "metadata": {},
   "outputs": [
    {
     "data": {
      "application/vnd.microsoft.datawrangler.viewer.v0+json": {
       "columns": [
        {
         "name": "index",
         "rawType": "int64",
         "type": "integer"
        },
        {
         "name": "sex",
         "rawType": "category",
         "type": "unknown"
        },
        {
         "name": "smoker",
         "rawType": "category",
         "type": "unknown"
        },
        {
         "name": "day",
         "rawType": "category",
         "type": "unknown"
        },
        {
         "name": "time",
         "rawType": "category",
         "type": "unknown"
        }
       ],
       "ref": "43673f2e-be92-4689-83d8-d20903878363",
       "rows": [
        [
         "0",
         "Female",
         "No",
         "Sun",
         "Dinner"
        ],
        [
         "1",
         "Male",
         "No",
         "Sun",
         "Dinner"
        ],
        [
         "2",
         "Male",
         "No",
         "Sun",
         "Dinner"
        ],
        [
         "3",
         "Male",
         "No",
         "Sun",
         "Dinner"
        ],
        [
         "4",
         "Female",
         "No",
         "Sun",
         "Dinner"
        ],
        [
         "5",
         "Male",
         "No",
         "Sun",
         "Dinner"
        ],
        [
         "6",
         "Male",
         "No",
         "Sun",
         "Dinner"
        ],
        [
         "7",
         "Male",
         "No",
         "Sun",
         "Dinner"
        ],
        [
         "8",
         "Male",
         "No",
         "Sun",
         "Dinner"
        ],
        [
         "9",
         "Male",
         "No",
         "Sun",
         "Dinner"
        ],
        [
         "10",
         "Male",
         "No",
         "Sun",
         "Dinner"
        ],
        [
         "11",
         "Female",
         "No",
         "Sun",
         "Dinner"
        ],
        [
         "12",
         "Male",
         "No",
         "Sun",
         "Dinner"
        ],
        [
         "13",
         "Male",
         "No",
         "Sun",
         "Dinner"
        ],
        [
         "14",
         "Female",
         "No",
         "Sun",
         "Dinner"
        ],
        [
         "15",
         "Male",
         "No",
         "Sun",
         "Dinner"
        ],
        [
         "16",
         "Female",
         "No",
         "Sun",
         "Dinner"
        ],
        [
         "17",
         "Male",
         "No",
         "Sun",
         "Dinner"
        ],
        [
         "18",
         "Female",
         "No",
         "Sun",
         "Dinner"
        ],
        [
         "19",
         "Male",
         "No",
         "Sat",
         "Dinner"
        ],
        [
         "20",
         "Male",
         "No",
         "Sat",
         "Dinner"
        ],
        [
         "21",
         "Female",
         "No",
         "Sat",
         "Dinner"
        ],
        [
         "22",
         "Female",
         "No",
         "Sat",
         "Dinner"
        ],
        [
         "23",
         "Male",
         "No",
         "Sat",
         "Dinner"
        ],
        [
         "24",
         "Male",
         "No",
         "Sat",
         "Dinner"
        ],
        [
         "25",
         "Male",
         "No",
         "Sat",
         "Dinner"
        ],
        [
         "26",
         "Male",
         "No",
         "Sat",
         "Dinner"
        ],
        [
         "27",
         "Male",
         "No",
         "Sat",
         "Dinner"
        ],
        [
         "28",
         "Male",
         "No",
         "Sat",
         "Dinner"
        ],
        [
         "29",
         "Female",
         "No",
         "Sat",
         "Dinner"
        ],
        [
         "30",
         "Male",
         "No",
         "Sat",
         "Dinner"
        ],
        [
         "31",
         "Male",
         "No",
         "Sat",
         "Dinner"
        ],
        [
         "32",
         "Female",
         "No",
         "Sat",
         "Dinner"
        ],
        [
         "33",
         "Female",
         "No",
         "Sat",
         "Dinner"
        ],
        [
         "34",
         "Male",
         "No",
         "Sat",
         "Dinner"
        ],
        [
         "35",
         "Male",
         "No",
         "Sat",
         "Dinner"
        ],
        [
         "36",
         "Male",
         "No",
         "Sat",
         "Dinner"
        ],
        [
         "37",
         "Female",
         "No",
         "Sat",
         "Dinner"
        ],
        [
         "38",
         "Male",
         "No",
         "Sat",
         "Dinner"
        ],
        [
         "39",
         "Male",
         "No",
         "Sat",
         "Dinner"
        ],
        [
         "40",
         "Male",
         "No",
         "Sat",
         "Dinner"
        ],
        [
         "41",
         "Male",
         "No",
         "Sun",
         "Dinner"
        ],
        [
         "42",
         "Male",
         "No",
         "Sun",
         "Dinner"
        ],
        [
         "43",
         "Male",
         "No",
         "Sun",
         "Dinner"
        ],
        [
         "44",
         "Male",
         "No",
         "Sun",
         "Dinner"
        ],
        [
         "45",
         "Male",
         "No",
         "Sun",
         "Dinner"
        ],
        [
         "46",
         "Male",
         "No",
         "Sun",
         "Dinner"
        ],
        [
         "47",
         "Male",
         "No",
         "Sun",
         "Dinner"
        ],
        [
         "48",
         "Male",
         "No",
         "Sun",
         "Dinner"
        ],
        [
         "49",
         "Male",
         "No",
         "Sun",
         "Dinner"
        ]
       ],
       "shape": {
        "columns": 4,
        "rows": 244
       }
      },
      "text/html": [
       "<div>\n",
       "<style scoped>\n",
       "    .dataframe tbody tr th:only-of-type {\n",
       "        vertical-align: middle;\n",
       "    }\n",
       "\n",
       "    .dataframe tbody tr th {\n",
       "        vertical-align: top;\n",
       "    }\n",
       "\n",
       "    .dataframe thead th {\n",
       "        text-align: right;\n",
       "    }\n",
       "</style>\n",
       "<table border=\"1\" class=\"dataframe\">\n",
       "  <thead>\n",
       "    <tr style=\"text-align: right;\">\n",
       "      <th></th>\n",
       "      <th>sex</th>\n",
       "      <th>smoker</th>\n",
       "      <th>day</th>\n",
       "      <th>time</th>\n",
       "    </tr>\n",
       "  </thead>\n",
       "  <tbody>\n",
       "    <tr>\n",
       "      <th>0</th>\n",
       "      <td>Female</td>\n",
       "      <td>No</td>\n",
       "      <td>Sun</td>\n",
       "      <td>Dinner</td>\n",
       "    </tr>\n",
       "    <tr>\n",
       "      <th>1</th>\n",
       "      <td>Male</td>\n",
       "      <td>No</td>\n",
       "      <td>Sun</td>\n",
       "      <td>Dinner</td>\n",
       "    </tr>\n",
       "    <tr>\n",
       "      <th>2</th>\n",
       "      <td>Male</td>\n",
       "      <td>No</td>\n",
       "      <td>Sun</td>\n",
       "      <td>Dinner</td>\n",
       "    </tr>\n",
       "    <tr>\n",
       "      <th>3</th>\n",
       "      <td>Male</td>\n",
       "      <td>No</td>\n",
       "      <td>Sun</td>\n",
       "      <td>Dinner</td>\n",
       "    </tr>\n",
       "    <tr>\n",
       "      <th>4</th>\n",
       "      <td>Female</td>\n",
       "      <td>No</td>\n",
       "      <td>Sun</td>\n",
       "      <td>Dinner</td>\n",
       "    </tr>\n",
       "    <tr>\n",
       "      <th>...</th>\n",
       "      <td>...</td>\n",
       "      <td>...</td>\n",
       "      <td>...</td>\n",
       "      <td>...</td>\n",
       "    </tr>\n",
       "    <tr>\n",
       "      <th>239</th>\n",
       "      <td>Male</td>\n",
       "      <td>No</td>\n",
       "      <td>Sat</td>\n",
       "      <td>Dinner</td>\n",
       "    </tr>\n",
       "    <tr>\n",
       "      <th>240</th>\n",
       "      <td>Female</td>\n",
       "      <td>Yes</td>\n",
       "      <td>Sat</td>\n",
       "      <td>Dinner</td>\n",
       "    </tr>\n",
       "    <tr>\n",
       "      <th>241</th>\n",
       "      <td>Male</td>\n",
       "      <td>Yes</td>\n",
       "      <td>Sat</td>\n",
       "      <td>Dinner</td>\n",
       "    </tr>\n",
       "    <tr>\n",
       "      <th>242</th>\n",
       "      <td>Male</td>\n",
       "      <td>No</td>\n",
       "      <td>Sat</td>\n",
       "      <td>Dinner</td>\n",
       "    </tr>\n",
       "    <tr>\n",
       "      <th>243</th>\n",
       "      <td>Female</td>\n",
       "      <td>No</td>\n",
       "      <td>Thur</td>\n",
       "      <td>Dinner</td>\n",
       "    </tr>\n",
       "  </tbody>\n",
       "</table>\n",
       "<p>244 rows × 4 columns</p>\n",
       "</div>"
      ],
      "text/plain": [
       "        sex smoker   day    time\n",
       "0    Female     No   Sun  Dinner\n",
       "1      Male     No   Sun  Dinner\n",
       "2      Male     No   Sun  Dinner\n",
       "3      Male     No   Sun  Dinner\n",
       "4    Female     No   Sun  Dinner\n",
       "..      ...    ...   ...     ...\n",
       "239    Male     No   Sat  Dinner\n",
       "240  Female    Yes   Sat  Dinner\n",
       "241    Male    Yes   Sat  Dinner\n",
       "242    Male     No   Sat  Dinner\n",
       "243  Female     No  Thur  Dinner\n",
       "\n",
       "[244 rows x 4 columns]"
      ]
     },
     "execution_count": 11,
     "metadata": {},
     "output_type": "execute_result"
    }
   ],
   "source": [
    "non_numeric_colums"
   ]
  },
  {
   "cell_type": "code",
   "execution_count": 12,
   "id": "ca930bb0",
   "metadata": {},
   "outputs": [
    {
     "data": {
      "text/plain": [
       "['Female', 'Male']\n",
       "Categories (2, object): ['Male', 'Female']"
      ]
     },
     "execution_count": 12,
     "metadata": {},
     "output_type": "execute_result"
    }
   ],
   "source": [
    "non_numeric_colums['sex'].unique()"
   ]
  },
  {
   "cell_type": "code",
   "execution_count": 13,
   "id": "58c0edcd",
   "metadata": {},
   "outputs": [],
   "source": [
    "def change_num(age):\n",
    "    if age == 'Male':\n",
    "        return 1\n",
    "    else:\n",
    "        return 2"
   ]
  },
  {
   "cell_type": "code",
   "execution_count": 14,
   "id": "1be7c11c",
   "metadata": {},
   "outputs": [
    {
     "name": "stderr",
     "output_type": "stream",
     "text": [
      "C:\\Users\\ragha\\AppData\\Local\\Temp\\ipykernel_14192\\1385066466.py:1: SettingWithCopyWarning: \n",
      "A value is trying to be set on a copy of a slice from a DataFrame.\n",
      "Try using .loc[row_indexer,col_indexer] = value instead\n",
      "\n",
      "See the caveats in the documentation: https://pandas.pydata.org/pandas-docs/stable/user_guide/indexing.html#returning-a-view-versus-a-copy\n",
      "  non_numeric_colums['Gender'] = non_numeric_colums['sex'].apply(change_num)\n"
     ]
    }
   ],
   "source": [
    "non_numeric_colums['Gender'] = non_numeric_colums['sex'].apply(change_num)"
   ]
  },
  {
   "cell_type": "code",
   "execution_count": 15,
   "id": "3db21444",
   "metadata": {},
   "outputs": [
    {
     "data": {
      "text/plain": [
       "[2, 1]\n",
       "Categories (2, int64): [1, 2]"
      ]
     },
     "execution_count": 15,
     "metadata": {},
     "output_type": "execute_result"
    }
   ],
   "source": [
    "non_numeric_colums['Gender'].unique()"
   ]
  },
  {
   "cell_type": "code",
   "execution_count": 16,
   "id": "7566790c",
   "metadata": {},
   "outputs": [
    {
     "data": {
      "text/plain": [
       "['Sun', 'Sat', 'Thur', 'Fri']\n",
       "Categories (4, object): ['Thur', 'Fri', 'Sat', 'Sun']"
      ]
     },
     "execution_count": 16,
     "metadata": {},
     "output_type": "execute_result"
    }
   ],
   "source": [
    "non_numeric_colums['day'].unique()"
   ]
  },
  {
   "cell_type": "code",
   "execution_count": 17,
   "id": "75aa7dae",
   "metadata": {},
   "outputs": [],
   "source": [
    "def days(d):\n",
    "    if d == 'Sun':\n",
    "        return 0\n",
    "    elif d == 'Sat':\n",
    "        return 1\n",
    "    elif d == 'Thur':\n",
    "        return 2\n",
    "    else:\n",
    "        return 3"
   ]
  },
  {
   "cell_type": "code",
   "execution_count": 18,
   "id": "802be56f",
   "metadata": {},
   "outputs": [
    {
     "name": "stderr",
     "output_type": "stream",
     "text": [
      "C:\\Users\\ragha\\AppData\\Local\\Temp\\ipykernel_14192\\1656696830.py:1: SettingWithCopyWarning: \n",
      "A value is trying to be set on a copy of a slice from a DataFrame.\n",
      "Try using .loc[row_indexer,col_indexer] = value instead\n",
      "\n",
      "See the caveats in the documentation: https://pandas.pydata.org/pandas-docs/stable/user_guide/indexing.html#returning-a-view-versus-a-copy\n",
      "  non_numeric_colums['day_numeric'] = non_numeric_colums['day'].apply(days)\n"
     ]
    }
   ],
   "source": [
    "non_numeric_colums['day_numeric'] = non_numeric_colums['day'].apply(days)"
   ]
  },
  {
   "cell_type": "code",
   "execution_count": 21,
   "id": "84f318ae",
   "metadata": {},
   "outputs": [
    {
     "data": {
      "text/plain": [
       "[0, 1, 2, 3]\n",
       "Categories (4, int64): [2, 3, 1, 0]"
      ]
     },
     "execution_count": 21,
     "metadata": {},
     "output_type": "execute_result"
    }
   ],
   "source": [
    "non_numeric_colums['day_numeric'].unique()"
   ]
  },
  {
   "cell_type": "code",
   "execution_count": 22,
   "id": "a0f549f2",
   "metadata": {},
   "outputs": [
    {
     "data": {
      "text/plain": [
       "['Dinner', 'Lunch']\n",
       "Categories (2, object): ['Lunch', 'Dinner']"
      ]
     },
     "execution_count": 22,
     "metadata": {},
     "output_type": "execute_result"
    }
   ],
   "source": [
    "non_numeric_colums['time'].unique()"
   ]
  },
  {
   "cell_type": "code",
   "execution_count": 23,
   "id": "28f75527",
   "metadata": {},
   "outputs": [],
   "source": [
    "def time(t):\n",
    "    if t=='Dinner':\n",
    "        return 0\n",
    "    else:\n",
    "        return 1\n"
   ]
  },
  {
   "cell_type": "code",
   "execution_count": 24,
   "id": "8558f694",
   "metadata": {},
   "outputs": [],
   "source": [
    "non_numeric_colums['time_numeric'] = non_numeric_colums['time'].apply(time)"
   ]
  },
  {
   "cell_type": "code",
   "execution_count": 27,
   "id": "620ad6b6",
   "metadata": {},
   "outputs": [
    {
     "data": {
      "text/plain": [
       "[0, 1]\n",
       "Categories (2, int64): [1, 0]"
      ]
     },
     "execution_count": 27,
     "metadata": {},
     "output_type": "execute_result"
    }
   ],
   "source": [
    "non_numeric_colums['time_numeric'].unique()"
   ]
  },
  {
   "cell_type": "code",
   "execution_count": 28,
   "id": "4830cb7b",
   "metadata": {},
   "outputs": [
    {
     "data": {
      "text/plain": [
       "['No', 'Yes']\n",
       "Categories (2, object): ['Yes', 'No']"
      ]
     },
     "execution_count": 28,
     "metadata": {},
     "output_type": "execute_result"
    }
   ],
   "source": [
    "non_numeric_colums['smoker'].unique()"
   ]
  },
  {
   "cell_type": "code",
   "execution_count": 29,
   "id": "dc1acfe1",
   "metadata": {},
   "outputs": [],
   "source": [
    "def yes_no(q):\n",
    "    if q == 'No':\n",
    "        return 0\n",
    "    else:\n",
    "        return 1"
   ]
  },
  {
   "cell_type": "code",
   "execution_count": 30,
   "id": "f714a800",
   "metadata": {},
   "outputs": [],
   "source": [
    "non_numeric_colums['smoker_numeric'] = non_numeric_colums['smoker'].apply(yes_no)"
   ]
  },
  {
   "cell_type": "code",
   "execution_count": 31,
   "id": "6e148859",
   "metadata": {},
   "outputs": [
    {
     "data": {
      "text/plain": [
       "[0, 1]\n",
       "Categories (2, int64): [1, 0]"
      ]
     },
     "execution_count": 31,
     "metadata": {},
     "output_type": "execute_result"
    }
   ],
   "source": [
    "non_numeric_colums['smoker_numeric'].unique()"
   ]
  },
  {
   "cell_type": "code",
   "execution_count": 32,
   "id": "117affa9",
   "metadata": {},
   "outputs": [
    {
     "data": {
      "application/vnd.microsoft.datawrangler.viewer.v0+json": {
       "columns": [
        {
         "name": "index",
         "rawType": "int64",
         "type": "integer"
        },
        {
         "name": "sex",
         "rawType": "category",
         "type": "unknown"
        },
        {
         "name": "smoker",
         "rawType": "category",
         "type": "unknown"
        },
        {
         "name": "day",
         "rawType": "category",
         "type": "unknown"
        },
        {
         "name": "time",
         "rawType": "category",
         "type": "unknown"
        },
        {
         "name": "Gender",
         "rawType": "category",
         "type": "unknown"
        },
        {
         "name": "day_numeric",
         "rawType": "category",
         "type": "unknown"
        },
        {
         "name": "time_numeric",
         "rawType": "category",
         "type": "unknown"
        },
        {
         "name": "smoker_numeric",
         "rawType": "category",
         "type": "unknown"
        }
       ],
       "ref": "309d2e86-5add-4b36-8449-9052cf89e3da",
       "rows": [
        [
         "0",
         "Female",
         "No",
         "Sun",
         "Dinner",
         "2",
         "0",
         "0",
         "0"
        ],
        [
         "1",
         "Male",
         "No",
         "Sun",
         "Dinner",
         "1",
         "0",
         "0",
         "0"
        ],
        [
         "2",
         "Male",
         "No",
         "Sun",
         "Dinner",
         "1",
         "0",
         "0",
         "0"
        ],
        [
         "3",
         "Male",
         "No",
         "Sun",
         "Dinner",
         "1",
         "0",
         "0",
         "0"
        ],
        [
         "4",
         "Female",
         "No",
         "Sun",
         "Dinner",
         "2",
         "0",
         "0",
         "0"
        ],
        [
         "5",
         "Male",
         "No",
         "Sun",
         "Dinner",
         "1",
         "0",
         "0",
         "0"
        ],
        [
         "6",
         "Male",
         "No",
         "Sun",
         "Dinner",
         "1",
         "0",
         "0",
         "0"
        ],
        [
         "7",
         "Male",
         "No",
         "Sun",
         "Dinner",
         "1",
         "0",
         "0",
         "0"
        ],
        [
         "8",
         "Male",
         "No",
         "Sun",
         "Dinner",
         "1",
         "0",
         "0",
         "0"
        ],
        [
         "9",
         "Male",
         "No",
         "Sun",
         "Dinner",
         "1",
         "0",
         "0",
         "0"
        ],
        [
         "10",
         "Male",
         "No",
         "Sun",
         "Dinner",
         "1",
         "0",
         "0",
         "0"
        ],
        [
         "11",
         "Female",
         "No",
         "Sun",
         "Dinner",
         "2",
         "0",
         "0",
         "0"
        ],
        [
         "12",
         "Male",
         "No",
         "Sun",
         "Dinner",
         "1",
         "0",
         "0",
         "0"
        ],
        [
         "13",
         "Male",
         "No",
         "Sun",
         "Dinner",
         "1",
         "0",
         "0",
         "0"
        ],
        [
         "14",
         "Female",
         "No",
         "Sun",
         "Dinner",
         "2",
         "0",
         "0",
         "0"
        ],
        [
         "15",
         "Male",
         "No",
         "Sun",
         "Dinner",
         "1",
         "0",
         "0",
         "0"
        ],
        [
         "16",
         "Female",
         "No",
         "Sun",
         "Dinner",
         "2",
         "0",
         "0",
         "0"
        ],
        [
         "17",
         "Male",
         "No",
         "Sun",
         "Dinner",
         "1",
         "0",
         "0",
         "0"
        ],
        [
         "18",
         "Female",
         "No",
         "Sun",
         "Dinner",
         "2",
         "0",
         "0",
         "0"
        ],
        [
         "19",
         "Male",
         "No",
         "Sat",
         "Dinner",
         "1",
         "1",
         "0",
         "0"
        ],
        [
         "20",
         "Male",
         "No",
         "Sat",
         "Dinner",
         "1",
         "1",
         "0",
         "0"
        ],
        [
         "21",
         "Female",
         "No",
         "Sat",
         "Dinner",
         "2",
         "1",
         "0",
         "0"
        ],
        [
         "22",
         "Female",
         "No",
         "Sat",
         "Dinner",
         "2",
         "1",
         "0",
         "0"
        ],
        [
         "23",
         "Male",
         "No",
         "Sat",
         "Dinner",
         "1",
         "1",
         "0",
         "0"
        ],
        [
         "24",
         "Male",
         "No",
         "Sat",
         "Dinner",
         "1",
         "1",
         "0",
         "0"
        ],
        [
         "25",
         "Male",
         "No",
         "Sat",
         "Dinner",
         "1",
         "1",
         "0",
         "0"
        ],
        [
         "26",
         "Male",
         "No",
         "Sat",
         "Dinner",
         "1",
         "1",
         "0",
         "0"
        ],
        [
         "27",
         "Male",
         "No",
         "Sat",
         "Dinner",
         "1",
         "1",
         "0",
         "0"
        ],
        [
         "28",
         "Male",
         "No",
         "Sat",
         "Dinner",
         "1",
         "1",
         "0",
         "0"
        ],
        [
         "29",
         "Female",
         "No",
         "Sat",
         "Dinner",
         "2",
         "1",
         "0",
         "0"
        ],
        [
         "30",
         "Male",
         "No",
         "Sat",
         "Dinner",
         "1",
         "1",
         "0",
         "0"
        ],
        [
         "31",
         "Male",
         "No",
         "Sat",
         "Dinner",
         "1",
         "1",
         "0",
         "0"
        ],
        [
         "32",
         "Female",
         "No",
         "Sat",
         "Dinner",
         "2",
         "1",
         "0",
         "0"
        ],
        [
         "33",
         "Female",
         "No",
         "Sat",
         "Dinner",
         "2",
         "1",
         "0",
         "0"
        ],
        [
         "34",
         "Male",
         "No",
         "Sat",
         "Dinner",
         "1",
         "1",
         "0",
         "0"
        ],
        [
         "35",
         "Male",
         "No",
         "Sat",
         "Dinner",
         "1",
         "1",
         "0",
         "0"
        ],
        [
         "36",
         "Male",
         "No",
         "Sat",
         "Dinner",
         "1",
         "1",
         "0",
         "0"
        ],
        [
         "37",
         "Female",
         "No",
         "Sat",
         "Dinner",
         "2",
         "1",
         "0",
         "0"
        ],
        [
         "38",
         "Male",
         "No",
         "Sat",
         "Dinner",
         "1",
         "1",
         "0",
         "0"
        ],
        [
         "39",
         "Male",
         "No",
         "Sat",
         "Dinner",
         "1",
         "1",
         "0",
         "0"
        ],
        [
         "40",
         "Male",
         "No",
         "Sat",
         "Dinner",
         "1",
         "1",
         "0",
         "0"
        ],
        [
         "41",
         "Male",
         "No",
         "Sun",
         "Dinner",
         "1",
         "0",
         "0",
         "0"
        ],
        [
         "42",
         "Male",
         "No",
         "Sun",
         "Dinner",
         "1",
         "0",
         "0",
         "0"
        ],
        [
         "43",
         "Male",
         "No",
         "Sun",
         "Dinner",
         "1",
         "0",
         "0",
         "0"
        ],
        [
         "44",
         "Male",
         "No",
         "Sun",
         "Dinner",
         "1",
         "0",
         "0",
         "0"
        ],
        [
         "45",
         "Male",
         "No",
         "Sun",
         "Dinner",
         "1",
         "0",
         "0",
         "0"
        ],
        [
         "46",
         "Male",
         "No",
         "Sun",
         "Dinner",
         "1",
         "0",
         "0",
         "0"
        ],
        [
         "47",
         "Male",
         "No",
         "Sun",
         "Dinner",
         "1",
         "0",
         "0",
         "0"
        ],
        [
         "48",
         "Male",
         "No",
         "Sun",
         "Dinner",
         "1",
         "0",
         "0",
         "0"
        ],
        [
         "49",
         "Male",
         "No",
         "Sun",
         "Dinner",
         "1",
         "0",
         "0",
         "0"
        ]
       ],
       "shape": {
        "columns": 8,
        "rows": 244
       }
      },
      "text/html": [
       "<div>\n",
       "<style scoped>\n",
       "    .dataframe tbody tr th:only-of-type {\n",
       "        vertical-align: middle;\n",
       "    }\n",
       "\n",
       "    .dataframe tbody tr th {\n",
       "        vertical-align: top;\n",
       "    }\n",
       "\n",
       "    .dataframe thead th {\n",
       "        text-align: right;\n",
       "    }\n",
       "</style>\n",
       "<table border=\"1\" class=\"dataframe\">\n",
       "  <thead>\n",
       "    <tr style=\"text-align: right;\">\n",
       "      <th></th>\n",
       "      <th>sex</th>\n",
       "      <th>smoker</th>\n",
       "      <th>day</th>\n",
       "      <th>time</th>\n",
       "      <th>Gender</th>\n",
       "      <th>day_numeric</th>\n",
       "      <th>time_numeric</th>\n",
       "      <th>smoker_numeric</th>\n",
       "    </tr>\n",
       "  </thead>\n",
       "  <tbody>\n",
       "    <tr>\n",
       "      <th>0</th>\n",
       "      <td>Female</td>\n",
       "      <td>No</td>\n",
       "      <td>Sun</td>\n",
       "      <td>Dinner</td>\n",
       "      <td>2</td>\n",
       "      <td>0</td>\n",
       "      <td>0</td>\n",
       "      <td>0</td>\n",
       "    </tr>\n",
       "    <tr>\n",
       "      <th>1</th>\n",
       "      <td>Male</td>\n",
       "      <td>No</td>\n",
       "      <td>Sun</td>\n",
       "      <td>Dinner</td>\n",
       "      <td>1</td>\n",
       "      <td>0</td>\n",
       "      <td>0</td>\n",
       "      <td>0</td>\n",
       "    </tr>\n",
       "    <tr>\n",
       "      <th>2</th>\n",
       "      <td>Male</td>\n",
       "      <td>No</td>\n",
       "      <td>Sun</td>\n",
       "      <td>Dinner</td>\n",
       "      <td>1</td>\n",
       "      <td>0</td>\n",
       "      <td>0</td>\n",
       "      <td>0</td>\n",
       "    </tr>\n",
       "    <tr>\n",
       "      <th>3</th>\n",
       "      <td>Male</td>\n",
       "      <td>No</td>\n",
       "      <td>Sun</td>\n",
       "      <td>Dinner</td>\n",
       "      <td>1</td>\n",
       "      <td>0</td>\n",
       "      <td>0</td>\n",
       "      <td>0</td>\n",
       "    </tr>\n",
       "    <tr>\n",
       "      <th>4</th>\n",
       "      <td>Female</td>\n",
       "      <td>No</td>\n",
       "      <td>Sun</td>\n",
       "      <td>Dinner</td>\n",
       "      <td>2</td>\n",
       "      <td>0</td>\n",
       "      <td>0</td>\n",
       "      <td>0</td>\n",
       "    </tr>\n",
       "    <tr>\n",
       "      <th>...</th>\n",
       "      <td>...</td>\n",
       "      <td>...</td>\n",
       "      <td>...</td>\n",
       "      <td>...</td>\n",
       "      <td>...</td>\n",
       "      <td>...</td>\n",
       "      <td>...</td>\n",
       "      <td>...</td>\n",
       "    </tr>\n",
       "    <tr>\n",
       "      <th>239</th>\n",
       "      <td>Male</td>\n",
       "      <td>No</td>\n",
       "      <td>Sat</td>\n",
       "      <td>Dinner</td>\n",
       "      <td>1</td>\n",
       "      <td>1</td>\n",
       "      <td>0</td>\n",
       "      <td>0</td>\n",
       "    </tr>\n",
       "    <tr>\n",
       "      <th>240</th>\n",
       "      <td>Female</td>\n",
       "      <td>Yes</td>\n",
       "      <td>Sat</td>\n",
       "      <td>Dinner</td>\n",
       "      <td>2</td>\n",
       "      <td>1</td>\n",
       "      <td>0</td>\n",
       "      <td>1</td>\n",
       "    </tr>\n",
       "    <tr>\n",
       "      <th>241</th>\n",
       "      <td>Male</td>\n",
       "      <td>Yes</td>\n",
       "      <td>Sat</td>\n",
       "      <td>Dinner</td>\n",
       "      <td>1</td>\n",
       "      <td>1</td>\n",
       "      <td>0</td>\n",
       "      <td>1</td>\n",
       "    </tr>\n",
       "    <tr>\n",
       "      <th>242</th>\n",
       "      <td>Male</td>\n",
       "      <td>No</td>\n",
       "      <td>Sat</td>\n",
       "      <td>Dinner</td>\n",
       "      <td>1</td>\n",
       "      <td>1</td>\n",
       "      <td>0</td>\n",
       "      <td>0</td>\n",
       "    </tr>\n",
       "    <tr>\n",
       "      <th>243</th>\n",
       "      <td>Female</td>\n",
       "      <td>No</td>\n",
       "      <td>Thur</td>\n",
       "      <td>Dinner</td>\n",
       "      <td>2</td>\n",
       "      <td>2</td>\n",
       "      <td>0</td>\n",
       "      <td>0</td>\n",
       "    </tr>\n",
       "  </tbody>\n",
       "</table>\n",
       "<p>244 rows × 8 columns</p>\n",
       "</div>"
      ],
      "text/plain": [
       "        sex smoker   day    time Gender day_numeric time_numeric  \\\n",
       "0    Female     No   Sun  Dinner      2           0            0   \n",
       "1      Male     No   Sun  Dinner      1           0            0   \n",
       "2      Male     No   Sun  Dinner      1           0            0   \n",
       "3      Male     No   Sun  Dinner      1           0            0   \n",
       "4    Female     No   Sun  Dinner      2           0            0   \n",
       "..      ...    ...   ...     ...    ...         ...          ...   \n",
       "239    Male     No   Sat  Dinner      1           1            0   \n",
       "240  Female    Yes   Sat  Dinner      2           1            0   \n",
       "241    Male    Yes   Sat  Dinner      1           1            0   \n",
       "242    Male     No   Sat  Dinner      1           1            0   \n",
       "243  Female     No  Thur  Dinner      2           2            0   \n",
       "\n",
       "    smoker_numeric  \n",
       "0                0  \n",
       "1                0  \n",
       "2                0  \n",
       "3                0  \n",
       "4                0  \n",
       "..             ...  \n",
       "239              0  \n",
       "240              1  \n",
       "241              1  \n",
       "242              0  \n",
       "243              0  \n",
       "\n",
       "[244 rows x 8 columns]"
      ]
     },
     "execution_count": 32,
     "metadata": {},
     "output_type": "execute_result"
    }
   ],
   "source": [
    "non_numeric_colums"
   ]
  },
  {
   "cell_type": "code",
   "execution_count": 33,
   "id": "a756bf53",
   "metadata": {},
   "outputs": [],
   "source": [
    "numeric_columns = non_numeric_colums[['Gender','day_numeric','time_numeric','smoker_numeric']]"
   ]
  },
  {
   "cell_type": "code",
   "execution_count": 34,
   "id": "2da9b253",
   "metadata": {},
   "outputs": [
    {
     "data": {
      "application/vnd.microsoft.datawrangler.viewer.v0+json": {
       "columns": [
        {
         "name": "index",
         "rawType": "int64",
         "type": "integer"
        },
        {
         "name": "Gender",
         "rawType": "category",
         "type": "unknown"
        },
        {
         "name": "day_numeric",
         "rawType": "category",
         "type": "unknown"
        },
        {
         "name": "time_numeric",
         "rawType": "category",
         "type": "unknown"
        },
        {
         "name": "smoker_numeric",
         "rawType": "category",
         "type": "unknown"
        }
       ],
       "ref": "5b30641d-0c08-4e91-998a-f6e81fb142b7",
       "rows": [
        [
         "0",
         "2",
         "0",
         "0",
         "0"
        ],
        [
         "1",
         "1",
         "0",
         "0",
         "0"
        ],
        [
         "2",
         "1",
         "0",
         "0",
         "0"
        ],
        [
         "3",
         "1",
         "0",
         "0",
         "0"
        ],
        [
         "4",
         "2",
         "0",
         "0",
         "0"
        ],
        [
         "5",
         "1",
         "0",
         "0",
         "0"
        ],
        [
         "6",
         "1",
         "0",
         "0",
         "0"
        ],
        [
         "7",
         "1",
         "0",
         "0",
         "0"
        ],
        [
         "8",
         "1",
         "0",
         "0",
         "0"
        ],
        [
         "9",
         "1",
         "0",
         "0",
         "0"
        ],
        [
         "10",
         "1",
         "0",
         "0",
         "0"
        ],
        [
         "11",
         "2",
         "0",
         "0",
         "0"
        ],
        [
         "12",
         "1",
         "0",
         "0",
         "0"
        ],
        [
         "13",
         "1",
         "0",
         "0",
         "0"
        ],
        [
         "14",
         "2",
         "0",
         "0",
         "0"
        ],
        [
         "15",
         "1",
         "0",
         "0",
         "0"
        ],
        [
         "16",
         "2",
         "0",
         "0",
         "0"
        ],
        [
         "17",
         "1",
         "0",
         "0",
         "0"
        ],
        [
         "18",
         "2",
         "0",
         "0",
         "0"
        ],
        [
         "19",
         "1",
         "1",
         "0",
         "0"
        ],
        [
         "20",
         "1",
         "1",
         "0",
         "0"
        ],
        [
         "21",
         "2",
         "1",
         "0",
         "0"
        ],
        [
         "22",
         "2",
         "1",
         "0",
         "0"
        ],
        [
         "23",
         "1",
         "1",
         "0",
         "0"
        ],
        [
         "24",
         "1",
         "1",
         "0",
         "0"
        ],
        [
         "25",
         "1",
         "1",
         "0",
         "0"
        ],
        [
         "26",
         "1",
         "1",
         "0",
         "0"
        ],
        [
         "27",
         "1",
         "1",
         "0",
         "0"
        ],
        [
         "28",
         "1",
         "1",
         "0",
         "0"
        ],
        [
         "29",
         "2",
         "1",
         "0",
         "0"
        ],
        [
         "30",
         "1",
         "1",
         "0",
         "0"
        ],
        [
         "31",
         "1",
         "1",
         "0",
         "0"
        ],
        [
         "32",
         "2",
         "1",
         "0",
         "0"
        ],
        [
         "33",
         "2",
         "1",
         "0",
         "0"
        ],
        [
         "34",
         "1",
         "1",
         "0",
         "0"
        ],
        [
         "35",
         "1",
         "1",
         "0",
         "0"
        ],
        [
         "36",
         "1",
         "1",
         "0",
         "0"
        ],
        [
         "37",
         "2",
         "1",
         "0",
         "0"
        ],
        [
         "38",
         "1",
         "1",
         "0",
         "0"
        ],
        [
         "39",
         "1",
         "1",
         "0",
         "0"
        ],
        [
         "40",
         "1",
         "1",
         "0",
         "0"
        ],
        [
         "41",
         "1",
         "0",
         "0",
         "0"
        ],
        [
         "42",
         "1",
         "0",
         "0",
         "0"
        ],
        [
         "43",
         "1",
         "0",
         "0",
         "0"
        ],
        [
         "44",
         "1",
         "0",
         "0",
         "0"
        ],
        [
         "45",
         "1",
         "0",
         "0",
         "0"
        ],
        [
         "46",
         "1",
         "0",
         "0",
         "0"
        ],
        [
         "47",
         "1",
         "0",
         "0",
         "0"
        ],
        [
         "48",
         "1",
         "0",
         "0",
         "0"
        ],
        [
         "49",
         "1",
         "0",
         "0",
         "0"
        ]
       ],
       "shape": {
        "columns": 4,
        "rows": 244
       }
      },
      "text/html": [
       "<div>\n",
       "<style scoped>\n",
       "    .dataframe tbody tr th:only-of-type {\n",
       "        vertical-align: middle;\n",
       "    }\n",
       "\n",
       "    .dataframe tbody tr th {\n",
       "        vertical-align: top;\n",
       "    }\n",
       "\n",
       "    .dataframe thead th {\n",
       "        text-align: right;\n",
       "    }\n",
       "</style>\n",
       "<table border=\"1\" class=\"dataframe\">\n",
       "  <thead>\n",
       "    <tr style=\"text-align: right;\">\n",
       "      <th></th>\n",
       "      <th>Gender</th>\n",
       "      <th>day_numeric</th>\n",
       "      <th>time_numeric</th>\n",
       "      <th>smoker_numeric</th>\n",
       "    </tr>\n",
       "  </thead>\n",
       "  <tbody>\n",
       "    <tr>\n",
       "      <th>0</th>\n",
       "      <td>2</td>\n",
       "      <td>0</td>\n",
       "      <td>0</td>\n",
       "      <td>0</td>\n",
       "    </tr>\n",
       "    <tr>\n",
       "      <th>1</th>\n",
       "      <td>1</td>\n",
       "      <td>0</td>\n",
       "      <td>0</td>\n",
       "      <td>0</td>\n",
       "    </tr>\n",
       "    <tr>\n",
       "      <th>2</th>\n",
       "      <td>1</td>\n",
       "      <td>0</td>\n",
       "      <td>0</td>\n",
       "      <td>0</td>\n",
       "    </tr>\n",
       "    <tr>\n",
       "      <th>3</th>\n",
       "      <td>1</td>\n",
       "      <td>0</td>\n",
       "      <td>0</td>\n",
       "      <td>0</td>\n",
       "    </tr>\n",
       "    <tr>\n",
       "      <th>4</th>\n",
       "      <td>2</td>\n",
       "      <td>0</td>\n",
       "      <td>0</td>\n",
       "      <td>0</td>\n",
       "    </tr>\n",
       "    <tr>\n",
       "      <th>...</th>\n",
       "      <td>...</td>\n",
       "      <td>...</td>\n",
       "      <td>...</td>\n",
       "      <td>...</td>\n",
       "    </tr>\n",
       "    <tr>\n",
       "      <th>239</th>\n",
       "      <td>1</td>\n",
       "      <td>1</td>\n",
       "      <td>0</td>\n",
       "      <td>0</td>\n",
       "    </tr>\n",
       "    <tr>\n",
       "      <th>240</th>\n",
       "      <td>2</td>\n",
       "      <td>1</td>\n",
       "      <td>0</td>\n",
       "      <td>1</td>\n",
       "    </tr>\n",
       "    <tr>\n",
       "      <th>241</th>\n",
       "      <td>1</td>\n",
       "      <td>1</td>\n",
       "      <td>0</td>\n",
       "      <td>1</td>\n",
       "    </tr>\n",
       "    <tr>\n",
       "      <th>242</th>\n",
       "      <td>1</td>\n",
       "      <td>1</td>\n",
       "      <td>0</td>\n",
       "      <td>0</td>\n",
       "    </tr>\n",
       "    <tr>\n",
       "      <th>243</th>\n",
       "      <td>2</td>\n",
       "      <td>2</td>\n",
       "      <td>0</td>\n",
       "      <td>0</td>\n",
       "    </tr>\n",
       "  </tbody>\n",
       "</table>\n",
       "<p>244 rows × 4 columns</p>\n",
       "</div>"
      ],
      "text/plain": [
       "    Gender day_numeric time_numeric smoker_numeric\n",
       "0        2           0            0              0\n",
       "1        1           0            0              0\n",
       "2        1           0            0              0\n",
       "3        1           0            0              0\n",
       "4        2           0            0              0\n",
       "..     ...         ...          ...            ...\n",
       "239      1           1            0              0\n",
       "240      2           1            0              1\n",
       "241      1           1            0              1\n",
       "242      1           1            0              0\n",
       "243      2           2            0              0\n",
       "\n",
       "[244 rows x 4 columns]"
      ]
     },
     "execution_count": 34,
     "metadata": {},
     "output_type": "execute_result"
    }
   ],
   "source": [
    "numeric_columns"
   ]
  },
  {
   "cell_type": "code",
   "execution_count": 35,
   "id": "f78ed63f",
   "metadata": {},
   "outputs": [
    {
     "data": {
      "application/vnd.microsoft.datawrangler.viewer.v0+json": {
       "columns": [
        {
         "name": "index",
         "rawType": "object",
         "type": "string"
        },
        {
         "name": "Gender",
         "rawType": "float64",
         "type": "float"
        },
        {
         "name": "day_numeric",
         "rawType": "float64",
         "type": "float"
        },
        {
         "name": "time_numeric",
         "rawType": "float64",
         "type": "float"
        },
        {
         "name": "smoker_numeric",
         "rawType": "float64",
         "type": "float"
        }
       ],
       "ref": "47f8fbc3-d661-4896-be41-ecf961217729",
       "rows": [
        [
         "Gender",
         "1.0",
         "0.21537409198654614",
         "0.20523129613344457",
         "-0.0028159517336966916"
        ],
        [
         "day_numeric",
         "0.21537409198654614",
         "1.0",
         "0.6704703620174383",
         "0.17081844613899877"
        ],
        [
         "time_numeric",
         "0.20523129613344457",
         "0.6704703620174383",
         "1.0",
         "-0.05492110359570742"
        ],
        [
         "smoker_numeric",
         "-0.0028159517336966916",
         "0.17081844613899877",
         "-0.05492110359570742",
         "1.0"
        ]
       ],
       "shape": {
        "columns": 4,
        "rows": 4
       }
      },
      "text/html": [
       "<div>\n",
       "<style scoped>\n",
       "    .dataframe tbody tr th:only-of-type {\n",
       "        vertical-align: middle;\n",
       "    }\n",
       "\n",
       "    .dataframe tbody tr th {\n",
       "        vertical-align: top;\n",
       "    }\n",
       "\n",
       "    .dataframe thead th {\n",
       "        text-align: right;\n",
       "    }\n",
       "</style>\n",
       "<table border=\"1\" class=\"dataframe\">\n",
       "  <thead>\n",
       "    <tr style=\"text-align: right;\">\n",
       "      <th></th>\n",
       "      <th>Gender</th>\n",
       "      <th>day_numeric</th>\n",
       "      <th>time_numeric</th>\n",
       "      <th>smoker_numeric</th>\n",
       "    </tr>\n",
       "  </thead>\n",
       "  <tbody>\n",
       "    <tr>\n",
       "      <th>Gender</th>\n",
       "      <td>1.000000</td>\n",
       "      <td>0.215374</td>\n",
       "      <td>0.205231</td>\n",
       "      <td>-0.002816</td>\n",
       "    </tr>\n",
       "    <tr>\n",
       "      <th>day_numeric</th>\n",
       "      <td>0.215374</td>\n",
       "      <td>1.000000</td>\n",
       "      <td>0.670470</td>\n",
       "      <td>0.170818</td>\n",
       "    </tr>\n",
       "    <tr>\n",
       "      <th>time_numeric</th>\n",
       "      <td>0.205231</td>\n",
       "      <td>0.670470</td>\n",
       "      <td>1.000000</td>\n",
       "      <td>-0.054921</td>\n",
       "    </tr>\n",
       "    <tr>\n",
       "      <th>smoker_numeric</th>\n",
       "      <td>-0.002816</td>\n",
       "      <td>0.170818</td>\n",
       "      <td>-0.054921</td>\n",
       "      <td>1.000000</td>\n",
       "    </tr>\n",
       "  </tbody>\n",
       "</table>\n",
       "</div>"
      ],
      "text/plain": [
       "                  Gender  day_numeric  time_numeric  smoker_numeric\n",
       "Gender          1.000000     0.215374      0.205231       -0.002816\n",
       "day_numeric     0.215374     1.000000      0.670470        0.170818\n",
       "time_numeric    0.205231     0.670470      1.000000       -0.054921\n",
       "smoker_numeric -0.002816     0.170818     -0.054921        1.000000"
      ]
     },
     "execution_count": 35,
     "metadata": {},
     "output_type": "execute_result"
    }
   ],
   "source": [
    "numeric_columns.corr()"
   ]
  },
  {
   "cell_type": "code",
   "execution_count": 36,
   "id": "8b3b795b",
   "metadata": {},
   "outputs": [
    {
     "data": {
      "text/plain": [
       "<Axes: >"
      ]
     },
     "execution_count": 36,
     "metadata": {},
     "output_type": "execute_result"
    },
    {
     "data": {
      "image/png": "[encoded data removed]",
      "text/plain": [
       "<Figure size 640x480 with 2 Axes>"
      ]
     },
     "metadata": {},
     "output_type": "display_data"
    }
   ],
   "source": [
    "sns.heatmap(numeric_columns.corr(),annot=True,fmt=\".2f\")"
   ]
  },
  {
   "cell_type": "code",
   "execution_count": null,
   "id": "3b16740c",
   "metadata": {},
   "outputs": [],
   "source": []
  }
 ],
 "metadata": {
  "kernelspec": {
   "display_name": "Python 3",
   "language": "python",
   "name": "python3"
  },
  "language_info": {
   "codemirror_mode": {
    "name": "ipython",
    "version": 3
   },
   "file_extension": ".py",
   "mimetype": "text/x-python",
   "name": "python",
   "nbconvert_exporter": "python",
   "pygments_lexer": "ipython3",
   "version": "3.11.9"
  }
 },
 "nbformat": 4,
 "nbformat_minor": 5
}
